{
 "cells": [
  {
   "cell_type": "code",
   "execution_count": 1,
   "metadata": {
    "collapsed": true
   },
   "outputs": [],
   "source": [
    "import sqlite3\n",
    "import pandas as pd\n",
    "import os\n",
    "\n",
    "def MakeTable(db, name, fle):\n",
    "    '''Creates sqlite table from text file '''\n",
    "    # Connect to database\n",
    "    conn = sqlite3.connect(db)\n",
    "    # Create pandas dataframe\n",
    "    dataframe = pd.read_table(fle, index_col=0)\n",
    "    #dataframe.info()\n",
    "    # Write dataframe to sqlite table\n",
    "    dataframe.to_sql(name, conn, if_exists=\"replace\")\n",
    "    conn.close()\n",
    "    \n",
    "\n",
    "def MakeTables(db):\n",
    "    '''Makes table for each file in directory'''\n",
    "    for filename in os.listdir(os.getcwd()):\n",
    "        if filename.endswith('.txt'):\n",
    "            tablename = filename.strip('.txt')\n",
    "            MakeTable(db, tablename, filename)\n",
    "        \n",
    "\n",
    "def GetRow(db, table, gene):\n",
    "    '''Takes table and desired gene, returns row of gene'''\n",
    "    conn = sqlite3.connect(db)\n",
    "    cur = conn.cursor()\n",
    "    cur.execute('SELECT * FROM %s'%table)\n",
    "    rows = cur.fetchall()\n",
    "    for row in rows:\n",
    "        if row[0] == gene:\n",
    "            print(row)\n",
    "    conn.close()"
   ]
  },
  {
   "cell_type": "code",
   "execution_count": 12,
   "metadata": {
    "collapsed": true
   },
   "outputs": [],
   "source": [
    "MakeTables('../../DrugZ.db')"
   ]
  },
  {
   "cell_type": "code",
   "execution_count": 6,
   "metadata": {},
   "outputs": [],
   "source": [
    "#MakeTable('./pickles-database.db','avana_bf','./Avanadata.txt')\n",
    "MakeTable('./pickles-database.db','avana_exp','./CCLE_expression.protein_coding')\n",
    "#GetRow('./pickles-database.db','avana_bf','ERBB2')"
   ]
  },
  {
   "cell_type": "code",
   "execution_count": null,
   "metadata": {
    "collapsed": true
   },
   "outputs": [],
   "source": [
    "with sqlite3.connect('../../DrugZ.db') as conn:\n",
    "    conn.row_factory = sqlite3.Row\n",
    "    cursor = conn.cursor()    \n",
    "    cursor.execute(\"SELECT name FROM sqlite_master WHERE type='table'\")\n",
    "    for tablerow in cursor.fetchall():\n",
    "        table = tablerow[0]\n",
    "        cursor.execute(\"SELECT * FROM {t} where fdr_synth < 0.05\".format(t = table))\n",
    "        for row in cursor:\n",
    "            for field in row.keys():\n",
    "                print(field, row[field])"
   ]
  }
 ],
 "metadata": {
  "kernelspec": {
   "display_name": "Python 2",
   "language": "python",
   "name": "python2"
  },
  "language_info": {
   "codemirror_mode": {
    "name": "ipython",
    "version": 2
   },
   "file_extension": ".py",
   "mimetype": "text/x-python",
   "name": "python",
   "nbconvert_exporter": "python",
   "pygments_lexer": "ipython2",
   "version": "2.7.13"
  }
 },
 "nbformat": 4,
 "nbformat_minor": 2
}
